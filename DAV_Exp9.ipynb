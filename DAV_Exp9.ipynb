{
  "nbformat": 4,
  "nbformat_minor": 0,
  "metadata": {
    "colab": {
      "provenance": [],
      "include_colab_link": true
    },
    "kernelspec": {
      "name": "python3",
      "display_name": "Python 3"
    },
    "language_info": {
      "name": "python"
    }
  },
  "cells": [
    {
      "cell_type": "markdown",
      "metadata": {
        "id": "view-in-github",
        "colab_type": "text"
      },
      "source": [
        "<a href=\"https://colab.research.google.com/github/tanvi1618/DAV_exp_54/blob/main/DAV_Exp9.ipynb\" target=\"_parent\"><img src=\"https://colab.research.google.com/assets/colab-badge.svg\" alt=\"Open In Colab\"/></a>"
      ]
    },
    {
      "cell_type": "code",
      "execution_count": null,
      "metadata": {
        "colab": {
          "base_uri": "https://localhost:8080/",
          "height": 322
        },
        "id": "9wuhhthvzAbA",
        "outputId": "00b49a8c-697e-4491-d411-c74fac97a7a9"
      },
      "outputs": [
        {
          "output_type": "display_data",
          "data": {
            "text/plain": [
              "<IPython.core.display.HTML object>"
            ],
            "text/html": [
              "<!DOCTYPE html>\n",
              "<meta charset=\"utf-8\">\n",
              "\n",
              "<!-- Load d3.js -->\n",
              "<script src=\"https://d3js.org/d3.v4.js\"></script>\n",
              "<script src=\"https://d3js.org/d3-scale-chromatic.v1.min.js\"></script>\n",
              "<script src=\"https://d3js.org/d3-geo-projection.v2.min.js\"></script>\n",
              "\n",
              "<!-- Create an element where the map will take place -->\n",
              "<svg id=\"my_dataviz\" width=\"400\" height=\"300\"></svg>\n",
              "<script>\n",
              "\n",
              "// The svg\n",
              "var svg = d3.select(\"svg\"),\n",
              "    width = +svg.attr(\"width\"),\n",
              "    height = +svg.attr(\"height\");\n",
              "\n",
              "// Map and projection.using d3.geoAitoff()\n",
              "var projection = d3.geoAitoff()\n",
              "    .scale(width / 1.3 / Math.PI)\n",
              "    .translate([width / 2, height / 2])\n",
              "\n",
              "\n",
              "d3.json(\"https://raw.githubusercontent.com/holtzy/D3-graph-gallery/master/DATA/world.geojson\", function(data){\n",
              "\n",
              "\n",
              "    svg.append(\"g\")\n",
              "        .selectAll(\"path\")\n",
              "        .data(data.features)\n",
              "        .enter().append(\"path\")\n",
              "            .attr(\"fill\", \"#FF0000\")\n",
              "            .attr(\"d\", d3.geoPath()\n",
              "                .projection(projection)\n",
              "            )\n",
              "            .style(\"stroke\", \"#fff\")\n",
              "})\n",
              "\n",
              "</script>\n"
            ]
          },
          "metadata": {}
        }
      ],
      "source": [
        "%%html\n",
        "<!DOCTYPE html>\n",
        "<meta charset=\"utf-8\">\n",
        "\n",
        "<!-- Load d3.js -->\n",
        "<script src=\"https://d3js.org/d3.v4.js\"></script>\n",
        "<script src=\"https://d3js.org/d3-scale-chromatic.v1.min.js\"></script>\n",
        "<script src=\"https://d3js.org/d3-geo-projection.v2.min.js\"></script>\n",
        "\n",
        "<!-- Create an element where the map will take place -->\n",
        "<svg id=\"my_dataviz\" width=\"400\" height=\"300\"></svg>\n",
        "<script>\n",
        "\n",
        "// The svg\n",
        "var svg = d3.select(\"svg\"),\n",
        "    width = +svg.attr(\"width\"),\n",
        "    height = +svg.attr(\"height\");\n",
        "\n",
        "// Map and projection.using d3.geoAitoff()\n",
        "var projection = d3.geoAitoff()\n",
        "    .scale(width / 1.3 / Math.PI)\n",
        "    .translate([width / 2, height / 2])\n",
        "\n",
        "\n",
        "d3.json(\"https://raw.githubusercontent.com/holtzy/D3-graph-gallery/master/DATA/world.geojson\", function(data){\n",
        "\n",
        "\n",
        "    svg.append(\"g\")\n",
        "        .selectAll(\"path\")\n",
        "        .data(data.features)\n",
        "        .enter().append(\"path\")\n",
        "            .attr(\"fill\", \"#FF0000\")\n",
        "            .attr(\"d\", d3.geoPath()\n",
        "                .projection(projection)\n",
        "            )\n",
        "            .style(\"stroke\", \"#fff\")\n",
        "})\n",
        "\n",
        "</script>"
      ]
    }
  ]
}